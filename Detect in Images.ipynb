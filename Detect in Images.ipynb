{
 "cells": [
  {
   "cell_type": "code",
   "execution_count": 1,
   "metadata": {},
   "outputs": [],
   "source": [
    "from tensorflow.keras.applications.mobilenet_v2 import preprocess_input\n",
    "from tensorflow.keras.preprocessing.image import img_to_array\n",
    "from tensorflow.keras.models import load_model\n",
    "import numpy as np\n",
    "import imutils\n",
    "import time\n",
    "import cv2\n",
    "import os"
   ]
  },
  {
   "cell_type": "code",
   "execution_count": 2,
   "metadata": {},
   "outputs": [],
   "source": [
    "# load our serialized face detector model from disk\n",
    "prototxtPath = r\"face_detector\\deploy.prototxt\"\n",
    "weightsPath = r\"face_detector\\res10_300x300_ssd_iter_140000.caffemodel\"\n",
    "net = cv2.dnn.readNet(prototxtPath, weightsPath)\n"
   ]
  },
  {
   "cell_type": "code",
   "execution_count": 3,
   "metadata": {},
   "outputs": [],
   "source": [
    "model = load_model(\"mask_detector.model\") #Loading our mobilenetv2 model which we have trained before"
   ]
  },
  {
   "cell_type": "code",
   "execution_count": 4,
   "metadata": {},
   "outputs": [],
   "source": [
    "image = cv2.imread(r'assets\\images\\example_01.png') #reads image and convert them to array\n",
    "(h,w) = image.shape[:2] #we just need height and width of image not extra param i.e 3(RGB color)\n",
    "blob = cv2.dnn.blobFromImage(image, 1.0, (300,300), (104.0,177.0,123.0)) #means creating a compressed binary form of image, here we have passed image and\n",
    "# scale factor as 1.0 means we dont have to scale it\n",
    "# 2nd param is to resize image\n",
    "# 3rd param is subtract this colors RGB from image so that our model can unsdertand those images (Mean Subtraction)"
   ]
  },
  {
   "cell_type": "markdown",
   "metadata": {},
   "source": [
    "#### Mean Subtraction\n",
    "<img src=\"assets/images/mean subtraction.jpg\" width=\"500\" height=\"500\" align=\"left\"/>"
   ]
  },
  {
   "cell_type": "code",
   "execution_count": 7,
   "metadata": {},
   "outputs": [],
   "source": [
    "net.setInput(blob) #use this blob image to detect face with our dnn model\n",
    "detections = net.forward() #returns numpy array of detected darker and brighter parts of image i.e Face "
   ]
  },
  {
   "cell_type": "code",
   "execution_count": 15,
   "metadata": {},
   "outputs": [
    {
     "data": {
      "text/plain": [
       "array([[[[0.        , 1.        , 0.9984427 , ..., 0.12488028,\n",
       "          0.6709176 , 0.3542412 ],\n",
       "         [0.        , 1.        , 0.12920395, ..., 3.9990287 ,\n",
       "          4.8382664 , 4.984081  ],\n",
       "         [0.        , 1.        , 0.12446587, ..., 3.994579  ,\n",
       "          0.85450625, 4.978922  ],\n",
       "         ...,\n",
       "         [0.        , 0.        , 0.        , ..., 0.        ,\n",
       "          0.        , 0.        ],\n",
       "         [0.        , 0.        , 0.        , ..., 0.        ,\n",
       "          0.        , 0.        ],\n",
       "         [0.        , 0.        , 0.        , ..., 0.        ,\n",
       "          0.        , 0.        ]]]], dtype=float32)"
      ]
     },
     "execution_count": 15,
     "metadata": {},
     "output_type": "execute_result"
    }
   ],
   "source": [
    "detections"
   ]
  },
  {
   "cell_type": "code",
   "execution_count": 19,
   "metadata": {},
   "outputs": [],
   "source": [
    "#loop over our face\n",
    "for i in range(0,detections.shape[2]): #means loop it from 0 to features of face\n",
    "    confidence = detections[0,0,i,2] # filter out weak detections by ensuring the confidence is greater than the minimum confidence\n",
    "    if confidence > 0.5: #if chances are greater than 50% (It is a face) then perform following\n",
    "        box = detections[0,0,i,3:7]*np.array([w,h,w,h]) \n",
    "        #we are taking X and Y coordinates of frame (which is framing the face) to draw a box over face, here np array is to return array with cordinates as widht and height\n",
    "        (startX, startY, endX, endY) = box.astype('int') #converting each coordinate to integer\n",
    "        \n",
    "        #Ensure that bounding box falls withing dimension of frame\n",
    "        (startX, startY) = (max(0,startX), max(0,startY)) #now our frame is the face we have to make sure that our box should not exceed the frame\n",
    "        (endX, endY) = (min(w-1,endX), min(h-1,endY)) #and it should not be too small that part of face should gets out of box, \n",
    "        \n",
    "        #Extract face Region of Interest, convert it from BGR to RGB, resize it to 224,224 and preprocess it\n",
    "        face = image[startY:endY, startX:endX] #1) ROI\n",
    "        face = cv2.cvtColor(face, cv2.COLOR_BGR2RGB) #2) BGR to RGB\n",
    "        face = cv2.resize(face,(224,224)) #3) Resize\n",
    "        face = img_to_array(face) #4) TO array\n",
    "        face = preprocess_input(face) #5) preprocess\n",
    "        face = np.expand_dims(face, axis=0) #To add additional array dimension to face if it [x] then it eill be [[x]] cause model takes multidimensional array as input\n",
    "        \n",
    "        (mask, withoutMask) = model.predict(face)[0] #now using our model to predict if its wearing mask and getting 1st most value of array\n",
    "        \n",
    "        #Now determine class label i.e with mask or wihout mask and color to the bounding box over face\n",
    "        label = \"mask\" if mask > withoutMask else \"no mask\"\n",
    "        color = (0,255,0) if label==\"mask\" else (0,0,255)\n",
    "        \n",
    "        #include probability in bounding boxes\n",
    "        label = \"{}:{:.2f}%\".format(label,max(mask, withoutMask)*100) # our values are in point format (0.5,0.7) so to make it real number we multiply  100 to it\n",
    "        #It is a string format technique it means get only value from 0th index to start 2 positions from float number\n",
    "        #i.e 0.983564 is now 98\n",
    "        \n",
    "        #display label and bounding boxes\n",
    "        cv2.putText(image, label, (startX,startY-10), cv2.FONT_HERSHEY_SIMPLEX, 0.45, color, 2) #image on which to write, what to write, coordinates, FOnt, scaling of font by 0.45, color, and thicnkness\n",
    "        cv2.rectangle(image, (startX,startY), (endX,endY), color, 2) #image on whcih to draw, start and end cordinates, color, thickness\n",
    "\n",
    "cv2.imshow(\"output\",image) #show image\n",
    "cv2.waitKey(0) #wait until any key is pressed\n",
    "cv2.destroyAllWindows() #after key press destoy all windows"
   ]
  },
  {
   "cell_type": "code",
   "execution_count": null,
   "metadata": {},
   "outputs": [],
   "source": []
  },
  {
   "cell_type": "code",
   "execution_count": null,
   "metadata": {},
   "outputs": [],
   "source": []
  }
 ],
 "metadata": {
  "kernelspec": {
   "display_name": "Python 3 (ipykernel)",
   "language": "python",
   "name": "python3"
  },
  "language_info": {
   "codemirror_mode": {
    "name": "ipython",
    "version": 3
   },
   "file_extension": ".py",
   "mimetype": "text/x-python",
   "name": "python",
   "nbconvert_exporter": "python",
   "pygments_lexer": "ipython3",
   "version": "3.7.0"
  }
 },
 "nbformat": 4,
 "nbformat_minor": 4
}
